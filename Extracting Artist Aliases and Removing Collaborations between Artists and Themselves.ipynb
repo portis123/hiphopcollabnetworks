{
 "cells": [
  {
   "cell_type": "markdown",
   "id": "ffef2a95",
   "metadata": {},
   "source": [
    "Used the xmltodict library to get details of artists' aliases in a dataframe alongside their artist ids and names.\n",
    "Source: https://python.plainenglish.io/saving-xml-content-to-a-pandas-dataframe-using-xmltodict-b6fab32a5100. Then removed all instances from the edge list where an artist is shown as collaborating with themselves."
   ]
  },
  {
   "cell_type": "code",
   "execution_count": 4,
   "id": "79d388e9",
   "metadata": {},
   "outputs": [
    {
     "name": "stdout",
     "output_type": "stream",
     "text": [
      "Collecting xmltodict\n",
      "  Downloading xmltodict-0.13.0-py2.py3-none-any.whl (10.0 kB)\n",
      "Installing collected packages: xmltodict\n",
      "Successfully installed xmltodict-0.13.0\n",
      "Note: you may need to restart the kernel to use updated packages.\n"
     ]
    }
   ],
   "source": [
    "#pip install xmltodict"
   ]
  },
  {
   "cell_type": "code",
   "execution_count": 67,
   "id": "6b80e22f",
   "metadata": {},
   "outputs": [],
   "source": [
    "# to help with decompressing discogs data dump file\n",
    "import gzip\n",
    "\n",
    "import xmltodict\n",
    "import pandas as pd"
   ]
  },
  {
   "cell_type": "code",
   "execution_count": 68,
   "id": "c52ab0bf",
   "metadata": {},
   "outputs": [],
   "source": [
    "# import list of artist ids and artist names\n",
    "df_cleaned = pd.read_csv('df_artists_cleaned.csv', index_col=0)"
   ]
  },
  {
   "cell_type": "code",
   "execution_count": 69,
   "id": "96377ff6",
   "metadata": {},
   "outputs": [
    {
     "data": {
      "text/html": [
       "<div>\n",
       "<style scoped>\n",
       "    .dataframe tbody tr th:only-of-type {\n",
       "        vertical-align: middle;\n",
       "    }\n",
       "\n",
       "    .dataframe tbody tr th {\n",
       "        vertical-align: top;\n",
       "    }\n",
       "\n",
       "    .dataframe thead th {\n",
       "        text-align: right;\n",
       "    }\n",
       "</style>\n",
       "<table border=\"1\" class=\"dataframe\">\n",
       "  <thead>\n",
       "    <tr style=\"text-align: right;\">\n",
       "      <th></th>\n",
       "      <th>artistId</th>\n",
       "      <th>artistName</th>\n",
       "    </tr>\n",
       "  </thead>\n",
       "  <tbody>\n",
       "    <tr>\n",
       "      <th>0</th>\n",
       "      <td>194</td>\n",
       "      <td>Various</td>\n",
       "    </tr>\n",
       "    <tr>\n",
       "      <th>1</th>\n",
       "      <td>417</td>\n",
       "      <td>Photek</td>\n",
       "    </tr>\n",
       "    <tr>\n",
       "      <th>2</th>\n",
       "      <td>113467</td>\n",
       "      <td>Angela Winbush</td>\n",
       "    </tr>\n",
       "    <tr>\n",
       "      <th>3</th>\n",
       "      <td>61671</td>\n",
       "      <td>T-Ski Valley</td>\n",
       "    </tr>\n",
       "    <tr>\n",
       "      <th>4</th>\n",
       "      <td>69205</td>\n",
       "      <td>Lady D</td>\n",
       "    </tr>\n",
       "  </tbody>\n",
       "</table>\n",
       "</div>"
      ],
      "text/plain": [
       "   artistId      artistName\n",
       "0       194         Various\n",
       "1       417          Photek\n",
       "2    113467  Angela Winbush\n",
       "3     61671    T-Ski Valley\n",
       "4     69205          Lady D"
      ]
     },
     "execution_count": 69,
     "metadata": {},
     "output_type": "execute_result"
    }
   ],
   "source": [
    "df_cleaned.head()"
   ]
  },
  {
   "cell_type": "code",
   "execution_count": 65,
   "id": "f1c21a7d",
   "metadata": {},
   "outputs": [],
   "source": [
    "#import requests"
   ]
  },
  {
   "cell_type": "code",
   "execution_count": 70,
   "id": "86fabb07",
   "metadata": {},
   "outputs": [],
   "source": [
    "# parsing the Discogs artists file \n",
    "artists_file = xmltodict.parse(gzip.GzipFile('discogs_20180901_artists.xml.gz'))"
   ]
  },
  {
   "cell_type": "code",
   "execution_count": 71,
   "id": "770de601",
   "metadata": {},
   "outputs": [],
   "source": [
    "# refining the data to look at the artists\n",
    "artists_file = artists_file['artists']['artist']"
   ]
  },
  {
   "cell_type": "code",
   "execution_count": 72,
   "id": "e3d0b1d1",
   "metadata": {},
   "outputs": [
    {
     "data": {
      "text/plain": [
       "{'images': {'image': {'@height': '450',\n",
       "   '@type': 'secondary',\n",
       "   '@uri': '',\n",
       "   '@uri150': '',\n",
       "   '@width': '600'}},\n",
       " 'id': '1',\n",
       " 'name': 'The Persuader',\n",
       " 'realname': 'Jesper Dahlbäck',\n",
       " 'profile': None,\n",
       " 'data_quality': 'Correct',\n",
       " 'namevariations': {'name': ['Persuader', 'The Presuader']},\n",
       " 'aliases': {'name': [{'@id': '19541', '#text': 'Dick Track'},\n",
       "   {'@id': '278760', '#text': 'Faxid'},\n",
       "   {'@id': '16055', '#text': 'Groove Machine'},\n",
       "   {'@id': '196957', '#text': \"Janne Me' Amazonen\"},\n",
       "   {'@id': '239', '#text': 'Jesper Dahlbäck'},\n",
       "   {'@id': '25227', '#text': 'Lenk'},\n",
       "   {'@id': '439150', '#text': 'The Pinguin Man'}]}}"
      ]
     },
     "execution_count": 72,
     "metadata": {},
     "output_type": "execute_result"
    }
   ],
   "source": [
    "# first value in artists dataset\n",
    "artists_file[0]"
   ]
  },
  {
   "cell_type": "code",
   "execution_count": 73,
   "id": "1acf8347",
   "metadata": {},
   "outputs": [],
   "source": [
    "# function to get an artist's id, name and alias, and put these in a dataframe\n",
    "def get_artist_data(artist):\n",
    "    data= []\n",
    "    artist_id = artist[\"id\"]\n",
    "    artist_name = artist[\"name\"]\n",
    "    try:\n",
    "        aliases = artist['aliases']['name']\n",
    "    except:\n",
    "        aliases = \"none available\"\n",
    "    data.append({\"id\": artist_id, \"name\": artist_name, \"aliases\": aliases})\n",
    "    df = pd.DataFrame(data)\n",
    "    return df"
   ]
  },
  {
   "cell_type": "code",
   "execution_count": 19,
   "id": "4ae46301",
   "metadata": {},
   "outputs": [],
   "source": [
    "#get_artist_data(artists_file[0])"
   ]
  },
  {
   "cell_type": "code",
   "execution_count": 74,
   "id": "59e4a42b",
   "metadata": {},
   "outputs": [],
   "source": [
    "# function that takes the xml file and returns a list of the artist dataframes for each artist\n",
    "def get_all_artists(file):\n",
    "    df_list = []\n",
    "    for x in file:        \n",
    "        df_list.append(get_artist_data(x))\n",
    "    return df_list"
   ]
  },
  {
   "cell_type": "code",
   "execution_count": 75,
   "id": "d730f24d",
   "metadata": {},
   "outputs": [],
   "source": [
    "all_artists = get_all_artists(artists_file)"
   ]
  },
  {
   "cell_type": "code",
   "execution_count": 58,
   "id": "24a4c97c",
   "metadata": {},
   "outputs": [],
   "source": [
    "#all_artists[6]"
   ]
  },
  {
   "cell_type": "code",
   "execution_count": 76,
   "id": "46b77565",
   "metadata": {},
   "outputs": [],
   "source": [
    "# combine all the artist dataframes into one dataframe\n",
    "all_artists = pd.concat(all_artists, ignore_index =True, axis=0)"
   ]
  },
  {
   "cell_type": "code",
   "execution_count": 77,
   "id": "67212031",
   "metadata": {},
   "outputs": [
    {
     "data": {
      "text/html": [
       "<div>\n",
       "<style scoped>\n",
       "    .dataframe tbody tr th:only-of-type {\n",
       "        vertical-align: middle;\n",
       "    }\n",
       "\n",
       "    .dataframe tbody tr th {\n",
       "        vertical-align: top;\n",
       "    }\n",
       "\n",
       "    .dataframe thead th {\n",
       "        text-align: right;\n",
       "    }\n",
       "</style>\n",
       "<table border=\"1\" class=\"dataframe\">\n",
       "  <thead>\n",
       "    <tr style=\"text-align: right;\">\n",
       "      <th></th>\n",
       "      <th>id</th>\n",
       "      <th>name</th>\n",
       "      <th>aliases</th>\n",
       "    </tr>\n",
       "  </thead>\n",
       "  <tbody>\n",
       "    <tr>\n",
       "      <th>0</th>\n",
       "      <td>1</td>\n",
       "      <td>The Persuader</td>\n",
       "      <td>[{'@id': '19541', '#text': 'Dick Track'}, {'@i...</td>\n",
       "    </tr>\n",
       "    <tr>\n",
       "      <th>1</th>\n",
       "      <td>2</td>\n",
       "      <td>Mr. James Barth &amp; A.D.</td>\n",
       "      <td>[{'@id': '384581', '#text': 'ADCL'}, {'@id': '...</td>\n",
       "    </tr>\n",
       "    <tr>\n",
       "      <th>2</th>\n",
       "      <td>3</td>\n",
       "      <td>Josh Wink</td>\n",
       "      <td>[{'@id': '370936', '#text': 'Accent (3)'}, {'@...</td>\n",
       "    </tr>\n",
       "    <tr>\n",
       "      <th>3</th>\n",
       "      <td>4</td>\n",
       "      <td>Johannes Heil</td>\n",
       "      <td>[{'@id': '120636', '#text': 'Age Beats'}, {'@i...</td>\n",
       "    </tr>\n",
       "    <tr>\n",
       "      <th>4</th>\n",
       "      <td>5</td>\n",
       "      <td>Heiko Laux</td>\n",
       "      <td>[{'@id': '22282', '#text': 'Apathism'}, {'@id'...</td>\n",
       "    </tr>\n",
       "    <tr>\n",
       "      <th>...</th>\n",
       "      <td>...</td>\n",
       "      <td>...</td>\n",
       "      <td>...</td>\n",
       "    </tr>\n",
       "    <tr>\n",
       "      <th>5834070</th>\n",
       "      <td>6682187</td>\n",
       "      <td>Katri Roukala</td>\n",
       "      <td>none available</td>\n",
       "    </tr>\n",
       "    <tr>\n",
       "      <th>5834071</th>\n",
       "      <td>6682188</td>\n",
       "      <td>Ines Sirén</td>\n",
       "      <td>none available</td>\n",
       "    </tr>\n",
       "    <tr>\n",
       "      <th>5834072</th>\n",
       "      <td>6682189</td>\n",
       "      <td>Sauli Nurila</td>\n",
       "      <td>none available</td>\n",
       "    </tr>\n",
       "    <tr>\n",
       "      <th>5834073</th>\n",
       "      <td>6682190</td>\n",
       "      <td>Ville Tainio</td>\n",
       "      <td>none available</td>\n",
       "    </tr>\n",
       "    <tr>\n",
       "      <th>5834074</th>\n",
       "      <td>6682191</td>\n",
       "      <td>Specs Stahlberg</td>\n",
       "      <td>none available</td>\n",
       "    </tr>\n",
       "  </tbody>\n",
       "</table>\n",
       "<p>5834075 rows × 3 columns</p>\n",
       "</div>"
      ],
      "text/plain": [
       "              id                    name  \\\n",
       "0              1           The Persuader   \n",
       "1              2  Mr. James Barth & A.D.   \n",
       "2              3               Josh Wink   \n",
       "3              4           Johannes Heil   \n",
       "4              5              Heiko Laux   \n",
       "...          ...                     ...   \n",
       "5834070  6682187           Katri Roukala   \n",
       "5834071  6682188              Ines Sirén   \n",
       "5834072  6682189            Sauli Nurila   \n",
       "5834073  6682190            Ville Tainio   \n",
       "5834074  6682191         Specs Stahlberg   \n",
       "\n",
       "                                                   aliases  \n",
       "0        [{'@id': '19541', '#text': 'Dick Track'}, {'@i...  \n",
       "1        [{'@id': '384581', '#text': 'ADCL'}, {'@id': '...  \n",
       "2        [{'@id': '370936', '#text': 'Accent (3)'}, {'@...  \n",
       "3        [{'@id': '120636', '#text': 'Age Beats'}, {'@i...  \n",
       "4        [{'@id': '22282', '#text': 'Apathism'}, {'@id'...  \n",
       "...                                                    ...  \n",
       "5834070                                     none available  \n",
       "5834071                                     none available  \n",
       "5834072                                     none available  \n",
       "5834073                                     none available  \n",
       "5834074                                     none available  \n",
       "\n",
       "[5834075 rows x 3 columns]"
      ]
     },
     "execution_count": 77,
     "metadata": {},
     "output_type": "execute_result"
    }
   ],
   "source": [
    "all_artists"
   ]
  },
  {
   "cell_type": "code",
   "execution_count": 78,
   "id": "ccbc607c",
   "metadata": {},
   "outputs": [],
   "source": [
    "all_artists.to_csv('artists_aliases.csv')"
   ]
  },
  {
   "cell_type": "code",
   "execution_count": 79,
   "id": "ce1885d0",
   "metadata": {},
   "outputs": [],
   "source": [
    "# load in our file which includes artist ids, artist names, and aliases\n",
    "df_artists_aliases = pd.read_csv('artists_aliases.csv')"
   ]
  },
  {
   "cell_type": "code",
   "execution_count": 80,
   "id": "253f4675",
   "metadata": {},
   "outputs": [],
   "source": [
    "#make a series of the artist ids for those artists we are interested in\n",
    "series_id = df_cleaned['artistId']"
   ]
  },
  {
   "cell_type": "code",
   "execution_count": 81,
   "id": "f533e017",
   "metadata": {},
   "outputs": [],
   "source": [
    "# create a dataframe of the artists with aliases for only those artists we are interested in\n",
    "df_reconciled = df_artists_aliases[df_artists_aliases['id'].isin(series_id)]"
   ]
  },
  {
   "cell_type": "code",
   "execution_count": 82,
   "id": "6fd246fa",
   "metadata": {},
   "outputs": [],
   "source": [
    "df_reconciled = df_reconciled.drop(columns = 'Unnamed: 0')"
   ]
  },
  {
   "cell_type": "code",
   "execution_count": 83,
   "id": "4c56d200",
   "metadata": {},
   "outputs": [
    {
     "data": {
      "text/html": [
       "<div>\n",
       "<style scoped>\n",
       "    .dataframe tbody tr th:only-of-type {\n",
       "        vertical-align: middle;\n",
       "    }\n",
       "\n",
       "    .dataframe tbody tr th {\n",
       "        vertical-align: top;\n",
       "    }\n",
       "\n",
       "    .dataframe thead th {\n",
       "        text-align: right;\n",
       "    }\n",
       "</style>\n",
       "<table border=\"1\" class=\"dataframe\">\n",
       "  <thead>\n",
       "    <tr style=\"text-align: right;\">\n",
       "      <th></th>\n",
       "      <th>id</th>\n",
       "      <th>name</th>\n",
       "      <th>aliases</th>\n",
       "    </tr>\n",
       "  </thead>\n",
       "  <tbody>\n",
       "    <tr>\n",
       "      <th>373</th>\n",
       "      <td>417</td>\n",
       "      <td>Photek</td>\n",
       "      <td>[{'@id': '2015', '#text': 'Aquarius'}, {'@id':...</td>\n",
       "    </tr>\n",
       "    <tr>\n",
       "      <th>701</th>\n",
       "      <td>776</td>\n",
       "      <td>DJ Cam</td>\n",
       "      <td>[{'@id': '1103667', '#text': 'Bouncer Crew'}, ...</td>\n",
       "    </tr>\n",
       "    <tr>\n",
       "      <th>877</th>\n",
       "      <td>968</td>\n",
       "      <td>The Herbaliser</td>\n",
       "      <td>none available</td>\n",
       "    </tr>\n",
       "    <tr>\n",
       "      <th>905</th>\n",
       "      <td>997</td>\n",
       "      <td>Roey Marquis II</td>\n",
       "      <td>[{'@id': '3277539', '#text': 'Calogero Randazz...</td>\n",
       "    </tr>\n",
       "    <tr>\n",
       "      <th>988</th>\n",
       "      <td>1095</td>\n",
       "      <td>Andrés</td>\n",
       "      <td>[{'@id': '2517289', '#text': 'A Drummer From D...</td>\n",
       "    </tr>\n",
       "    <tr>\n",
       "      <th>...</th>\n",
       "      <td>...</td>\n",
       "      <td>...</td>\n",
       "      <td>...</td>\n",
       "    </tr>\n",
       "    <tr>\n",
       "      <th>5768751</th>\n",
       "      <td>6615320</td>\n",
       "      <td>Oilworks</td>\n",
       "      <td>none available</td>\n",
       "    </tr>\n",
       "    <tr>\n",
       "      <th>5794809</th>\n",
       "      <td>6641987</td>\n",
       "      <td>DJ Matto (2)</td>\n",
       "      <td>none available</td>\n",
       "    </tr>\n",
       "    <tr>\n",
       "      <th>5805659</th>\n",
       "      <td>6653120</td>\n",
       "      <td>Lo-Go</td>\n",
       "      <td>none available</td>\n",
       "    </tr>\n",
       "    <tr>\n",
       "      <th>5833277</th>\n",
       "      <td>6681383</td>\n",
       "      <td>james joyce (7)</td>\n",
       "      <td>none available</td>\n",
       "    </tr>\n",
       "    <tr>\n",
       "      <th>5833278</th>\n",
       "      <td>6681384</td>\n",
       "      <td>Emochanel</td>\n",
       "      <td>none available</td>\n",
       "    </tr>\n",
       "  </tbody>\n",
       "</table>\n",
       "<p>6917 rows × 3 columns</p>\n",
       "</div>"
      ],
      "text/plain": [
       "              id             name  \\\n",
       "373          417           Photek   \n",
       "701          776           DJ Cam   \n",
       "877          968   The Herbaliser   \n",
       "905          997  Roey Marquis II   \n",
       "988         1095           Andrés   \n",
       "...          ...              ...   \n",
       "5768751  6615320         Oilworks   \n",
       "5794809  6641987     DJ Matto (2)   \n",
       "5805659  6653120            Lo-Go   \n",
       "5833277  6681383  james joyce (7)   \n",
       "5833278  6681384        Emochanel   \n",
       "\n",
       "                                                   aliases  \n",
       "373      [{'@id': '2015', '#text': 'Aquarius'}, {'@id':...  \n",
       "701      [{'@id': '1103667', '#text': 'Bouncer Crew'}, ...  \n",
       "877                                         none available  \n",
       "905      [{'@id': '3277539', '#text': 'Calogero Randazz...  \n",
       "988      [{'@id': '2517289', '#text': 'A Drummer From D...  \n",
       "...                                                    ...  \n",
       "5768751                                     none available  \n",
       "5794809                                     none available  \n",
       "5805659                                     none available  \n",
       "5833277                                     none available  \n",
       "5833278                                     none available  \n",
       "\n",
       "[6917 rows x 3 columns]"
      ]
     },
     "execution_count": 83,
     "metadata": {},
     "output_type": "execute_result"
    }
   ],
   "source": [
    "df_reconciled"
   ]
  },
  {
   "cell_type": "code",
   "execution_count": 84,
   "id": "343c2aae",
   "metadata": {},
   "outputs": [],
   "source": [
    "# reset the index in the new dataframe\n",
    "df_reconciled.reset_index(drop=True, inplace=True)"
   ]
  },
  {
   "cell_type": "code",
   "execution_count": 85,
   "id": "c3cdc208",
   "metadata": {},
   "outputs": [
    {
     "data": {
      "text/html": [
       "<div>\n",
       "<style scoped>\n",
       "    .dataframe tbody tr th:only-of-type {\n",
       "        vertical-align: middle;\n",
       "    }\n",
       "\n",
       "    .dataframe tbody tr th {\n",
       "        vertical-align: top;\n",
       "    }\n",
       "\n",
       "    .dataframe thead th {\n",
       "        text-align: right;\n",
       "    }\n",
       "</style>\n",
       "<table border=\"1\" class=\"dataframe\">\n",
       "  <thead>\n",
       "    <tr style=\"text-align: right;\">\n",
       "      <th></th>\n",
       "      <th>id</th>\n",
       "      <th>name</th>\n",
       "      <th>aliases</th>\n",
       "    </tr>\n",
       "  </thead>\n",
       "  <tbody>\n",
       "    <tr>\n",
       "      <th>0</th>\n",
       "      <td>417</td>\n",
       "      <td>Photek</td>\n",
       "      <td>[{'@id': '2015', '#text': 'Aquarius'}, {'@id':...</td>\n",
       "    </tr>\n",
       "    <tr>\n",
       "      <th>1</th>\n",
       "      <td>776</td>\n",
       "      <td>DJ Cam</td>\n",
       "      <td>[{'@id': '1103667', '#text': 'Bouncer Crew'}, ...</td>\n",
       "    </tr>\n",
       "    <tr>\n",
       "      <th>2</th>\n",
       "      <td>968</td>\n",
       "      <td>The Herbaliser</td>\n",
       "      <td>none available</td>\n",
       "    </tr>\n",
       "    <tr>\n",
       "      <th>3</th>\n",
       "      <td>997</td>\n",
       "      <td>Roey Marquis II</td>\n",
       "      <td>[{'@id': '3277539', '#text': 'Calogero Randazz...</td>\n",
       "    </tr>\n",
       "    <tr>\n",
       "      <th>4</th>\n",
       "      <td>1095</td>\n",
       "      <td>Andrés</td>\n",
       "      <td>[{'@id': '2517289', '#text': 'A Drummer From D...</td>\n",
       "    </tr>\n",
       "  </tbody>\n",
       "</table>\n",
       "</div>"
      ],
      "text/plain": [
       "     id             name                                            aliases\n",
       "0   417           Photek  [{'@id': '2015', '#text': 'Aquarius'}, {'@id':...\n",
       "1   776           DJ Cam  [{'@id': '1103667', '#text': 'Bouncer Crew'}, ...\n",
       "2   968   The Herbaliser                                     none available\n",
       "3   997  Roey Marquis II  [{'@id': '3277539', '#text': 'Calogero Randazz...\n",
       "4  1095           Andrés  [{'@id': '2517289', '#text': 'A Drummer From D..."
      ]
     },
     "execution_count": 85,
     "metadata": {},
     "output_type": "execute_result"
    }
   ],
   "source": [
    "df_reconciled.head()"
   ]
  },
  {
   "cell_type": "code",
   "execution_count": 35,
   "id": "0d5905c5",
   "metadata": {},
   "outputs": [],
   "source": [
    "#df_reconciled.to_csv('artists_aliases.csv')"
   ]
  },
  {
   "cell_type": "code",
   "execution_count": 86,
   "id": "b17e4cda",
   "metadata": {},
   "outputs": [],
   "source": [
    "df_edges_names = pd.read_csv('df_edge_list_names.csv')"
   ]
  },
  {
   "cell_type": "code",
   "execution_count": 87,
   "id": "6b6b3ec7",
   "metadata": {},
   "outputs": [
    {
     "data": {
      "text/html": [
       "<div>\n",
       "<style scoped>\n",
       "    .dataframe tbody tr th:only-of-type {\n",
       "        vertical-align: middle;\n",
       "    }\n",
       "\n",
       "    .dataframe tbody tr th {\n",
       "        vertical-align: top;\n",
       "    }\n",
       "\n",
       "    .dataframe thead th {\n",
       "        text-align: right;\n",
       "    }\n",
       "</style>\n",
       "<table border=\"1\" class=\"dataframe\">\n",
       "  <thead>\n",
       "    <tr style=\"text-align: right;\">\n",
       "      <th></th>\n",
       "      <th>Unnamed: 0</th>\n",
       "      <th>Names_lists1</th>\n",
       "      <th>Names_lists2</th>\n",
       "    </tr>\n",
       "  </thead>\n",
       "  <tbody>\n",
       "    <tr>\n",
       "      <th>0</th>\n",
       "      <td>0</td>\n",
       "      <td>Lady D</td>\n",
       "      <td>Mr Egg Germ</td>\n",
       "    </tr>\n",
       "    <tr>\n",
       "      <th>1</th>\n",
       "      <td>1</td>\n",
       "      <td>Lady D</td>\n",
       "      <td>T Monique</td>\n",
       "    </tr>\n",
       "    <tr>\n",
       "      <th>2</th>\n",
       "      <td>2</td>\n",
       "      <td>Mr Egg Germ</td>\n",
       "      <td>T Monique</td>\n",
       "    </tr>\n",
       "    <tr>\n",
       "      <th>3</th>\n",
       "      <td>3</td>\n",
       "      <td>T.C. Izlam</td>\n",
       "      <td>The Phunky Alien</td>\n",
       "    </tr>\n",
       "    <tr>\n",
       "      <th>4</th>\n",
       "      <td>4</td>\n",
       "      <td>Various</td>\n",
       "      <td>Mood</td>\n",
       "    </tr>\n",
       "  </tbody>\n",
       "</table>\n",
       "</div>"
      ],
      "text/plain": [
       "   Unnamed: 0 Names_lists1      Names_lists2\n",
       "0           0       Lady D       Mr Egg Germ\n",
       "1           1       Lady D         T Monique\n",
       "2           2  Mr Egg Germ         T Monique\n",
       "3           3   T.C. Izlam  The Phunky Alien\n",
       "4           4      Various              Mood"
      ]
     },
     "execution_count": 87,
     "metadata": {},
     "output_type": "execute_result"
    }
   ],
   "source": [
    "df_edges_names.head()"
   ]
  },
  {
   "cell_type": "code",
   "execution_count": 88,
   "id": "82c5bf93",
   "metadata": {},
   "outputs": [
    {
     "data": {
      "text/html": [
       "<div>\n",
       "<style scoped>\n",
       "    .dataframe tbody tr th:only-of-type {\n",
       "        vertical-align: middle;\n",
       "    }\n",
       "\n",
       "    .dataframe tbody tr th {\n",
       "        vertical-align: top;\n",
       "    }\n",
       "\n",
       "    .dataframe thead th {\n",
       "        text-align: right;\n",
       "    }\n",
       "</style>\n",
       "<table border=\"1\" class=\"dataframe\">\n",
       "  <thead>\n",
       "    <tr style=\"text-align: right;\">\n",
       "      <th></th>\n",
       "      <th>id</th>\n",
       "      <th>name</th>\n",
       "      <th>aliases</th>\n",
       "    </tr>\n",
       "  </thead>\n",
       "  <tbody>\n",
       "    <tr>\n",
       "      <th>1991</th>\n",
       "      <td>198518</td>\n",
       "      <td>GZA</td>\n",
       "      <td>[{'@id': '606584', '#text': 'Gary Grice'}, {'@...</td>\n",
       "    </tr>\n",
       "  </tbody>\n",
       "</table>\n",
       "</div>"
      ],
      "text/plain": [
       "          id name                                            aliases\n",
       "1991  198518  GZA  [{'@id': '606584', '#text': 'Gary Grice'}, {'@..."
      ]
     },
     "execution_count": 88,
     "metadata": {},
     "output_type": "execute_result"
    }
   ],
   "source": [
    "df_reconciled[df_reconciled['id']==198518]"
   ]
  },
  {
   "cell_type": "code",
   "execution_count": 90,
   "id": "2c1119a8",
   "metadata": {},
   "outputs": [],
   "source": [
    "df_edge_count = pd.read_csv('edge_count.csv', index_col=0)"
   ]
  },
  {
   "cell_type": "code",
   "execution_count": 91,
   "id": "b9999a60",
   "metadata": {},
   "outputs": [
    {
     "data": {
      "text/html": [
       "<div>\n",
       "<style scoped>\n",
       "    .dataframe tbody tr th:only-of-type {\n",
       "        vertical-align: middle;\n",
       "    }\n",
       "\n",
       "    .dataframe tbody tr th {\n",
       "        vertical-align: top;\n",
       "    }\n",
       "\n",
       "    .dataframe thead th {\n",
       "        text-align: right;\n",
       "    }\n",
       "</style>\n",
       "<table border=\"1\" class=\"dataframe\">\n",
       "  <thead>\n",
       "    <tr style=\"text-align: right;\">\n",
       "      <th></th>\n",
       "      <th>V1</th>\n",
       "      <th>V2</th>\n",
       "      <th>No times collaborated</th>\n",
       "    </tr>\n",
       "  </thead>\n",
       "  <tbody>\n",
       "    <tr>\n",
       "      <th>3746</th>\n",
       "      <td>198518</td>\n",
       "      <td>242071</td>\n",
       "      <td>12</td>\n",
       "    </tr>\n",
       "    <tr>\n",
       "      <th>4828</th>\n",
       "      <td>331629</td>\n",
       "      <td>1065010</td>\n",
       "      <td>11</td>\n",
       "    </tr>\n",
       "    <tr>\n",
       "      <th>664</th>\n",
       "      <td>25495</td>\n",
       "      <td>390896</td>\n",
       "      <td>11</td>\n",
       "    </tr>\n",
       "    <tr>\n",
       "      <th>3863</th>\n",
       "      <td>209294</td>\n",
       "      <td>79578</td>\n",
       "      <td>9</td>\n",
       "    </tr>\n",
       "    <tr>\n",
       "      <th>2966</th>\n",
       "      <td>144758</td>\n",
       "      <td>164246</td>\n",
       "      <td>8</td>\n",
       "    </tr>\n",
       "  </tbody>\n",
       "</table>\n",
       "</div>"
      ],
      "text/plain": [
       "          V1       V2  No times collaborated\n",
       "3746  198518   242071                     12\n",
       "4828  331629  1065010                     11\n",
       "664    25495   390896                     11\n",
       "3863  209294    79578                      9\n",
       "2966  144758   164246                      8"
      ]
     },
     "execution_count": 91,
     "metadata": {},
     "output_type": "execute_result"
    }
   ],
   "source": [
    "df_edge_count.head()"
   ]
  },
  {
   "cell_type": "code",
   "execution_count": 93,
   "id": "ef01e8de",
   "metadata": {},
   "outputs": [],
   "source": [
    "#df_reconciled.loc[df_reconciled['aliases'].str.contains(\"331629\", case=False)]['id']"
   ]
  },
  {
   "cell_type": "code",
   "execution_count": 94,
   "id": "893dba2c",
   "metadata": {
    "scrolled": true
   },
   "outputs": [],
   "source": [
    "# checking whether an artist is shown as sharing an edge with an id associated with one of their own aliases\n",
    "def checkAliasCollaborations(edge_list, edge_count):\n",
    "    for ind in edge_count.index:\n",
    "        value = str(edge_count['V1'][ind])\n",
    "        comparison = df_reconciled.loc[df_reconciled['aliases'].str.contains(str(edge_count['V2'][ind]), case=False)]['id'].to_string(index=False)\n",
    "        if value == comparison:\n",
    "        # Get indexes where name column has value from column V1 and value from column V2 where are same artist\n",
    "            indexNames = edge_list[(edge_list['V1'] == int(value)) & (edge_list['V2'] == int(edge_count['V2'][ind]))].index\n",
    "        # Delete these row indexes from dataFrame\n",
    "            edge_list.drop(indexNames , inplace=True)\n",
    "    return edge_list"
   ]
  },
  {
   "cell_type": "code",
   "execution_count": 95,
   "id": "9fdb4515",
   "metadata": {},
   "outputs": [
    {
     "name": "stdout",
     "output_type": "stream",
     "text": [
      "length of df before:  9118\n",
      "length of df after:  8981\n"
     ]
    }
   ],
   "source": [
    "df_updated_edges = pd.read_csv('discogs_edges.csv')\n",
    "print(\"length of df before: \", len(df_updated_edges))\n",
    "df_edge_latest = checkAliasCollaborations(df_updated_edges, df_edge_count)\n",
    "print(\"length of df after: \", len(df_edge_latest))"
   ]
  },
  {
   "cell_type": "code",
   "execution_count": 96,
   "id": "fb08a398",
   "metadata": {},
   "outputs": [],
   "source": [
    "# new updated edge list with alias collaborations removed\n",
    "df_edge_latest.to_csv('df_edges_cleaned.csv')"
   ]
  }
 ],
 "metadata": {
  "kernelspec": {
   "display_name": "Python 3 (ipykernel)",
   "language": "python",
   "name": "python3"
  },
  "language_info": {
   "codemirror_mode": {
    "name": "ipython",
    "version": 3
   },
   "file_extension": ".py",
   "mimetype": "text/x-python",
   "name": "python",
   "nbconvert_exporter": "python",
   "pygments_lexer": "ipython3",
   "version": "3.9.13"
  }
 },
 "nbformat": 4,
 "nbformat_minor": 5
}
