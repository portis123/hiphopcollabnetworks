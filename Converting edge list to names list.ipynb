{
 "cells": [
  {
   "cell_type": "code",
   "execution_count": 24,
   "id": "52de8334",
   "metadata": {},
   "outputs": [],
   "source": [
    "import pandas as pd"
   ]
  },
  {
   "cell_type": "code",
   "execution_count": 49,
   "id": "2ced95a6",
   "metadata": {},
   "outputs": [],
   "source": [
    "# create a pandas dataframe from the edges file\n",
    "df_edges = pd.read_csv('discogs_edges.csv')"
   ]
  },
  {
   "cell_type": "code",
   "execution_count": 50,
   "id": "f0ad7825",
   "metadata": {},
   "outputs": [],
   "source": [
    "# create a pandas dataframe from the artists file\n",
    "df_artists = pd.read_csv('artists.csv')"
   ]
  },
  {
   "cell_type": "code",
   "execution_count": 51,
   "id": "1f8bcf9e",
   "metadata": {},
   "outputs": [],
   "source": [
    "# combine edge lists from both columns in edge list file\n",
    "combined_nodes = pd.concat([df_edges['V1'], df_edges['V2']])"
   ]
  },
  {
   "cell_type": "code",
   "execution_count": 52,
   "id": "81edead0",
   "metadata": {},
   "outputs": [],
   "source": [
    "# get only the artists that are in the list of nodes from our edge list\n",
    "df_artists_hh_new = df_artists[df_artists[\"artistId\"].isin(combined_nodes)]"
   ]
  },
  {
   "cell_type": "code",
   "execution_count": 64,
   "id": "f32bf94f",
   "metadata": {},
   "outputs": [],
   "source": [
    "# remove the duplicates from the artist list we have just created\n",
    "df_artists_cleaned = df_artists_hh_new[~df_artists_hh_new['artistName'].str.lower().duplicated()]\n",
    "#print(df_artists_cleaned)"
   ]
  },
  {
   "cell_type": "code",
   "execution_count": 55,
   "id": "39c765f5",
   "metadata": {},
   "outputs": [],
   "source": [
    "# reset the index in the new dataframe\n",
    "df_artists_cleaned.reset_index(drop=True, inplace=True)"
   ]
  },
  {
   "cell_type": "code",
   "execution_count": 65,
   "id": "92f6d833",
   "metadata": {},
   "outputs": [],
   "source": [
    "#df_artists_cleaned.head()"
   ]
  },
  {
   "cell_type": "code",
   "execution_count": 32,
   "id": "b4f433fd",
   "metadata": {},
   "outputs": [],
   "source": [
    "df_artists_cleaned.to_csv('df_artists_cleaned.csv', index = False)"
   ]
  },
  {
   "cell_type": "code",
   "execution_count": 58,
   "id": "6b1acaac",
   "metadata": {},
   "outputs": [],
   "source": [
    "#df_cleaned_artists = pd.read_csv('df_artists_hh_broad.csv')"
   ]
  },
  {
   "cell_type": "code",
   "execution_count": 59,
   "id": "ecbe717c",
   "metadata": {},
   "outputs": [],
   "source": [
    "# create a dictionary of artist ids and names\n",
    "map_dict = dict(zip(df_artists_cleaned.artistId,df_artists_cleaned.artistName))\n",
    "\n",
    "# add columns with the names associated with the relevant artist ids in each column\n",
    "df_edges['Names_lists1'] =  df_edges['V1'].explode().map(map_dict)\n",
    "df_edges['Names_lists2'] =  df_edges['V2'].explode().map(map_dict)"
   ]
  },
  {
   "cell_type": "code",
   "execution_count": 66,
   "id": "c76c32cc",
   "metadata": {},
   "outputs": [],
   "source": [
    "#df_edges.head()"
   ]
  },
  {
   "cell_type": "code",
   "execution_count": 41,
   "id": "d55b6483",
   "metadata": {},
   "outputs": [],
   "source": [
    "#df_edges[df_edges[\"Names_lists1\"] == \"Jurassic 5\"]"
   ]
  },
  {
   "cell_type": "code",
   "execution_count": 42,
   "id": "4c0db81b",
   "metadata": {},
   "outputs": [],
   "source": [
    "#df_artists[df_artists[\"artistId\"] == 108249]"
   ]
  },
  {
   "cell_type": "code",
   "execution_count": 61,
   "id": "aebfe6d0",
   "metadata": {},
   "outputs": [],
   "source": [
    "# remove the artist ids and leave only the names\n",
    "edge_list_names = df_edges.filter(['Names_lists1','Names_lists2'], axis=1)"
   ]
  },
  {
   "cell_type": "code",
   "execution_count": 67,
   "id": "e815d2a5",
   "metadata": {},
   "outputs": [],
   "source": [
    "#edge_list_names.head()"
   ]
  },
  {
   "cell_type": "code",
   "execution_count": 68,
   "id": "4f7d3b1c",
   "metadata": {},
   "outputs": [],
   "source": [
    "#edge_list_names"
   ]
  },
  {
   "cell_type": "code",
   "execution_count": 40,
   "id": "29f14548",
   "metadata": {},
   "outputs": [],
   "source": [
    "edge_list_names.to_csv('df_edge_list_names.csv', index = False)"
   ]
  }
 ],
 "metadata": {
  "kernelspec": {
   "display_name": "Python 3 (ipykernel)",
   "language": "python",
   "name": "python3"
  },
  "language_info": {
   "codemirror_mode": {
    "name": "ipython",
    "version": 3
   },
   "file_extension": ".py",
   "mimetype": "text/x-python",
   "name": "python",
   "nbconvert_exporter": "python",
   "pygments_lexer": "ipython3",
   "version": "3.9.13"
  }
 },
 "nbformat": 4,
 "nbformat_minor": 5
}
