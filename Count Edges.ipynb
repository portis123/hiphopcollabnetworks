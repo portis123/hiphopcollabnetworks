{
 "cells": [
  {
   "cell_type": "markdown",
   "id": "05c01269",
   "metadata": {},
   "source": [
    "Counting the number of edges between the same two artists. The original intent of this was to look at edge weights and how these would work. This exercise showed, when checking some of the most common pairings, that artists were often shown as collaborating or appearing on the same master release as one of their aliases - as verified by checking the two involved artist IDs (see 'Extracting Artist Aliases and Removing Collaborations between Artists and Themselves')"
   ]
  },
  {
   "cell_type": "code",
   "execution_count": 1,
   "id": "3779dfcf",
   "metadata": {},
   "outputs": [],
   "source": [
    "import pandas as pd"
   ]
  },
  {
   "cell_type": "code",
   "execution_count": 2,
   "id": "09d18f8e",
   "metadata": {},
   "outputs": [],
   "source": [
    "# edge list derived from discogs dataset\n",
    "df_edges = pd.read_csv('discogs_edges.csv')"
   ]
  },
  {
   "cell_type": "code",
   "execution_count": 5,
   "id": "46978a25",
   "metadata": {},
   "outputs": [
    {
     "data": {
      "text/html": [
       "<div>\n",
       "<style scoped>\n",
       "    .dataframe tbody tr th:only-of-type {\n",
       "        vertical-align: middle;\n",
       "    }\n",
       "\n",
       "    .dataframe tbody tr th {\n",
       "        vertical-align: top;\n",
       "    }\n",
       "\n",
       "    .dataframe thead th {\n",
       "        text-align: right;\n",
       "    }\n",
       "</style>\n",
       "<table border=\"1\" class=\"dataframe\">\n",
       "  <thead>\n",
       "    <tr style=\"text-align: right;\">\n",
       "      <th></th>\n",
       "      <th>V1</th>\n",
       "      <th>V2</th>\n",
       "    </tr>\n",
       "  </thead>\n",
       "  <tbody>\n",
       "    <tr>\n",
       "      <th>0</th>\n",
       "      <td>69205</td>\n",
       "      <td>977533</td>\n",
       "    </tr>\n",
       "    <tr>\n",
       "      <th>1</th>\n",
       "      <td>69205</td>\n",
       "      <td>977534</td>\n",
       "    </tr>\n",
       "    <tr>\n",
       "      <th>2</th>\n",
       "      <td>977533</td>\n",
       "      <td>977534</td>\n",
       "    </tr>\n",
       "    <tr>\n",
       "      <th>3</th>\n",
       "      <td>4813</td>\n",
       "      <td>407736</td>\n",
       "    </tr>\n",
       "    <tr>\n",
       "      <th>4</th>\n",
       "      <td>194</td>\n",
       "      <td>106990</td>\n",
       "    </tr>\n",
       "  </tbody>\n",
       "</table>\n",
       "</div>"
      ],
      "text/plain": [
       "       V1      V2\n",
       "0   69205  977533\n",
       "1   69205  977534\n",
       "2  977533  977534\n",
       "3    4813  407736\n",
       "4     194  106990"
      ]
     },
     "execution_count": 5,
     "metadata": {},
     "output_type": "execute_result"
    }
   ],
   "source": [
    "#df_edges.head()"
   ]
  },
  {
   "cell_type": "code",
   "execution_count": 3,
   "id": "cd5fdc34",
   "metadata": {},
   "outputs": [],
   "source": [
    "# count the number of times the same nodes have collaborated\n",
    "df_edge_count = df_edges.groupby([\"V1\", \"V2\"]).size().reset_index(name=\"No times collaborated\").sort_values('No times collaborated', ascending=False)"
   ]
  },
  {
   "cell_type": "code",
   "execution_count": 4,
   "id": "15d54b7b",
   "metadata": {},
   "outputs": [
    {
     "data": {
      "text/html": [
       "<div>\n",
       "<style scoped>\n",
       "    .dataframe tbody tr th:only-of-type {\n",
       "        vertical-align: middle;\n",
       "    }\n",
       "\n",
       "    .dataframe tbody tr th {\n",
       "        vertical-align: top;\n",
       "    }\n",
       "\n",
       "    .dataframe thead th {\n",
       "        text-align: right;\n",
       "    }\n",
       "</style>\n",
       "<table border=\"1\" class=\"dataframe\">\n",
       "  <thead>\n",
       "    <tr style=\"text-align: right;\">\n",
       "      <th></th>\n",
       "      <th>V1</th>\n",
       "      <th>V2</th>\n",
       "      <th>No times collaborated</th>\n",
       "    </tr>\n",
       "  </thead>\n",
       "  <tbody>\n",
       "    <tr>\n",
       "      <th>3746</th>\n",
       "      <td>198518</td>\n",
       "      <td>242071</td>\n",
       "      <td>12</td>\n",
       "    </tr>\n",
       "    <tr>\n",
       "      <th>4828</th>\n",
       "      <td>331629</td>\n",
       "      <td>1065010</td>\n",
       "      <td>11</td>\n",
       "    </tr>\n",
       "    <tr>\n",
       "      <th>664</th>\n",
       "      <td>25495</td>\n",
       "      <td>390896</td>\n",
       "      <td>11</td>\n",
       "    </tr>\n",
       "    <tr>\n",
       "      <th>3863</th>\n",
       "      <td>209294</td>\n",
       "      <td>79578</td>\n",
       "      <td>9</td>\n",
       "    </tr>\n",
       "    <tr>\n",
       "      <th>2966</th>\n",
       "      <td>144758</td>\n",
       "      <td>164246</td>\n",
       "      <td>8</td>\n",
       "    </tr>\n",
       "  </tbody>\n",
       "</table>\n",
       "</div>"
      ],
      "text/plain": [
       "          V1       V2  No times collaborated\n",
       "3746  198518   242071                     12\n",
       "4828  331629  1065010                     11\n",
       "664    25495   390896                     11\n",
       "3863  209294    79578                      9\n",
       "2966  144758   164246                      8"
      ]
     },
     "execution_count": 4,
     "metadata": {},
     "output_type": "execute_result"
    }
   ],
   "source": [
    "df_edge_count.head()"
   ]
  },
  {
   "cell_type": "code",
   "execution_count": 11,
   "id": "c1f841d8",
   "metadata": {},
   "outputs": [],
   "source": [
    "df_edge_count.to_csv('edge_count.csv', index = False)"
   ]
  },
  {
   "cell_type": "code",
   "execution_count": 5,
   "id": "3a487063",
   "metadata": {},
   "outputs": [
    {
     "data": {
      "text/plain": [
       "1     7401\n",
       "2      490\n",
       "3      114\n",
       "4       35\n",
       "5       23\n",
       "6        9\n",
       "7        5\n",
       "11       2\n",
       "12       1\n",
       "9        1\n",
       "8        1\n",
       "Name: No times collaborated, dtype: int64"
      ]
     },
     "execution_count": 5,
     "metadata": {},
     "output_type": "execute_result"
    }
   ],
   "source": [
    "# number of pairs of nodes for each number of collaborations \n",
    "df_edge_count['No times collaborated'].value_counts()"
   ]
  }
 ],
 "metadata": {
  "kernelspec": {
   "display_name": "Python 3 (ipykernel)",
   "language": "python",
   "name": "python3"
  },
  "language_info": {
   "codemirror_mode": {
    "name": "ipython",
    "version": 3
   },
   "file_extension": ".py",
   "mimetype": "text/x-python",
   "name": "python",
   "nbconvert_exporter": "python",
   "pygments_lexer": "ipython3",
   "version": "3.9.13"
  }
 },
 "nbformat": 4,
 "nbformat_minor": 5
}
